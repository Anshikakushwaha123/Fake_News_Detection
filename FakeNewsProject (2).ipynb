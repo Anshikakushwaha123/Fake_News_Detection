{
 "cells": [
  {
   "cell_type": "code",
   "execution_count": 10,
   "id": "dabd4630-8134-49fb-8c7a-6be831b227b8",
   "metadata": {},
   "outputs": [
    {
     "name": "stdout",
     "output_type": "stream",
     "text": [
      "Accuracy: 1.0\n",
      "Confusion Matrix:\n",
      " [[47  0]\n",
      " [ 0 53]]\n",
      "Classification Report:\n",
      "               precision    recall  f1-score   support\n",
      "\n",
      "           0       1.00      1.00      1.00        47\n",
      "           1       1.00      1.00      1.00        53\n",
      "\n",
      "    accuracy                           1.00       100\n",
      "   macro avg       1.00      1.00      1.00       100\n",
      "weighted avg       1.00      1.00      1.00       100\n",
      "\n",
      "Prediction: Real News\n"
     ]
    }
   ],
   "source": [
    "# Import required libraries\n",
    "import pandas as pd\n",
    "import numpy as np\n",
    "import re\n",
    "from sklearn.model_selection import train_test_split\n",
    "from sklearn.feature_extraction.text import TfidfVectorizer\n",
    "from sklearn.naive_bayes import MultinomialNB\n",
    "from sklearn.metrics import accuracy_score, confusion_matrix, classification_report\n",
    "\n",
    "# Load the dataset (replace 'fake_news_dataset.csv' with your actual dataset file)\n",
    "df = pd.read_csv(\"C:\\\\Users\\\\Lenovo\\\\OneDrive\\\\pythonlibrarydata\\\\fake_news_dataset.csv\")  # Dataset should have 'text' and 'label' columns\n",
    "\n",
    "# Data Preprocessing Function\n",
    "def preprocess_text(text):\n",
    "    text = text.lower()  # Convert text to lowercase\n",
    "    text = re.sub(r'\\W', ' ', text)  # Remove special characters\n",
    "    text = re.sub(r'\\s+', ' ', text)  # Remove extra spaces\n",
    "    return text\n",
    "\n",
    "# Apply preprocessing to text column\n",
    "df['text'] = df['text'].apply(preprocess_text)\n",
    "\n",
    "# Convert text data to numerical using TF-IDF\n",
    "vectorizer = TfidfVectorizer(stop_words='english', max_df=0.7)\n",
    "X = vectorizer.fit_transform(df['text'])  # Feature matrix\n",
    "y = df['label']  # Target labels (1 for Fake, 0 for Real)\n",
    "\n",
    "# Split dataset into Training and Testing (80%-20%)\n",
    "X_train, X_test, y_train, y_test = train_test_split(X, y, test_size=0.2, random_state=42)\n",
    "\n",
    "# Train the Naïve Bayes classifier\n",
    "model = MultinomialNB()\n",
    "model.fit(X_train, y_train)\n",
    "\n",
    "# Make predictions\n",
    "y_pred = model.predict(X_test)\n",
    "\n",
    "# Evaluate the model\n",
    "accuracy = accuracy_score(y_test, y_pred)\n",
    "print(\"Accuracy:\", accuracy)\n",
    "print(\"Confusion Matrix:\\n\", confusion_matrix(y_test, y_pred))\n",
    "print(\"Classification Report:\\n\", classification_report(y_test, y_pred))\n",
    "\n",
    "# Test on new input\n",
    "def predict_news(news_text):\n",
    "    news_text = preprocess_text(news_text)\n",
    "    vectorized_text = vectorizer.transform([news_text])  # Transform input using trained vectorizer\n",
    "    prediction = model.predict(vectorized_text)\n",
    "    return \"Fake News\" if prediction[0] == 1 else \"Real News\"\n",
    "\n",
    "# Example usage\n",
    "news_input = \"Breaking: Scientists discover a new cure for cancer!\"\n",
    "print(\"Prediction:\", predict_news(news_input))\n"
   ]
  },
  {
   "cell_type": "code",
   "execution_count": null,
   "id": "af00d1a6-e27c-41d3-9e0c-d9a7f193280a",
   "metadata": {},
   "outputs": [],
   "source": []
  },
  {
   "cell_type": "code",
   "execution_count": null,
   "id": "755abfca-5f68-49dc-8d59-be6f3a07167b",
   "metadata": {},
   "outputs": [],
   "source": []
  }
 ],
 "metadata": {
  "kernelspec": {
   "display_name": "Python 3 (ipykernel)",
   "language": "python",
   "name": "python3"
  },
  "language_info": {
   "codemirror_mode": {
    "name": "ipython",
    "version": 3
   },
   "file_extension": ".py",
   "mimetype": "text/x-python",
   "name": "python",
   "nbconvert_exporter": "python",
   "pygments_lexer": "ipython3",
   "version": "3.12.4"
  }
 },
 "nbformat": 4,
 "nbformat_minor": 5
}
